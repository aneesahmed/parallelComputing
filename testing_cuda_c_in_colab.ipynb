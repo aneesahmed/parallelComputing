{
  "nbformat": 4,
  "nbformat_minor": 0,
  "metadata": {
    "colab": {
      "name": "testing-cuda-c in colab.ipynb",
      "version": "0.3.2",
      "provenance": [],
      "include_colab_link": true
    },
    "kernelspec": {
      "name": "python3",
      "display_name": "Python 3"
    },
    "accelerator": "GPU"
  },
  "cells": [
    {
      "cell_type": "markdown",
      "metadata": {
        "id": "view-in-github",
        "colab_type": "text"
      },
      "source": [
        "<a href=\"https://colab.research.google.com/github/aneesahmed/parallelComputing/blob/master/testing_cuda_c_in_colab.ipynb\" target=\"_parent\"><img src=\"https://colab.research.google.com/assets/colab-badge.svg\" alt=\"Open In Colab\"/></a>"
      ]
    },
    {
      "metadata": {
        "id": "YEuuOf2Z53iP",
        "colab_type": "code",
        "outputId": "9293df70-e085-4b04-d873-45e0192b65ca",
        "colab": {
          "base_uri": "https://localhost:8080/",
          "height": 666
        }
      },
      "cell_type": "code",
      "source": [
        "!apt update -qq;\n",
        "!apt-get install gcc-4.9 g++-4.9\n",
        "!update-alternatives --install /usr/bin/gcc gcc /usr/bin/gcc-4.9 60 --slave /usr/bin/g++ g++ /usr/bin/g++-4.9\n",
        "!wget https://developer.nvidia.com/compute/cuda/8.0/Prod2/local_installers/cuda-repo-ubuntu1604-8-0-local-ga2_8.0.61-1_amd64-deb;\n",
        "!dpkg -i cuda-repo-ubuntu1604-8-0-local-ga2_8.0.61-1_amd64-deb;\n",
        "!apt-key add /var/cuda-repo-8-0-local-ga2/7fa2af80.pub;\n",
        "!apt-get update -qq;\n",
        "!apt-get install cuda gcc-5 g++-5 -y -qq;\n",
        "!ln -s /usr/bin/gcc-5 /usr/local/cuda/bin/gcc;\n",
        "!ln -s /usr/bin/g++-5 /usr/local/cuda/bin/g++;\n",
        "!apt install cuda-8.0;"
      ],
      "execution_count": 0,
      "outputs": [
        {
          "output_type": "stream",
          "text": [
            "13 packages can be upgraded. Run 'apt list --upgradable' to see them.\n",
            "E: dpkg was interrupted, you must manually run 'dpkg --configure -a' to correct the problem. \n",
            "update-alternatives: error: alternative path /usr/bin/gcc-4.9 doesn't exist\n",
            "--2018-12-17 07:51:47--  https://developer.nvidia.com/compute/cuda/8.0/Prod2/local_installers/cuda-repo-ubuntu1604-8-0-local-ga2_8.0.61-1_amd64-deb\n",
            "Resolving developer.nvidia.com (developer.nvidia.com)... 192.229.182.215\n",
            "Connecting to developer.nvidia.com (developer.nvidia.com)|192.229.182.215|:443... connected.\n",
            "HTTP request sent, awaiting response... 302 Found\n",
            "Location: https://developer.download.nvidia.com/compute/cuda/8.0/secure/Prod2/local_installers/cuda-repo-ubuntu1604-8-0-local-ga2_8.0.61-1_amd64.deb?5Jr36M0DVYukr4AoqJbQaplJ1Fu5TrfBT37pQCRyZat5xxqasOqiWfUOcF-n6WwTobIYiiwJsdgAenzO_qnk2cmfiEBLIWKQd26DlQjyn3D1ezpVUUVkr2iIar6N5UmlTFhbR4iF8449mBsucJyq996gUebolk9TBmIAbtfCD4Z-Ml-DDA3u1EdS1xpRzqOU8VtiIbPrY7IbqSPl9SHfYANXsA [following]\n",
            "--2018-12-17 07:51:47--  https://developer.download.nvidia.com/compute/cuda/8.0/secure/Prod2/local_installers/cuda-repo-ubuntu1604-8-0-local-ga2_8.0.61-1_amd64.deb?5Jr36M0DVYukr4AoqJbQaplJ1Fu5TrfBT37pQCRyZat5xxqasOqiWfUOcF-n6WwTobIYiiwJsdgAenzO_qnk2cmfiEBLIWKQd26DlQjyn3D1ezpVUUVkr2iIar6N5UmlTFhbR4iF8449mBsucJyq996gUebolk9TBmIAbtfCD4Z-Ml-DDA3u1EdS1xpRzqOU8VtiIbPrY7IbqSPl9SHfYANXsA\n",
            "Resolving developer.download.nvidia.com (developer.download.nvidia.com)... 192.229.221.58, 2606:2800:233:ef6:15dd:1ece:1d50:1e1\n",
            "Connecting to developer.download.nvidia.com (developer.download.nvidia.com)|192.229.221.58|:443... connected.\n",
            "HTTP request sent, awaiting response... 200 OK\n",
            "Length: 1913589814 (1.8G) [application/x-deb]\n",
            "Saving to: ‘cuda-repo-ubuntu1604-8-0-local-ga2_8.0.61-1_amd64-deb.3’\n",
            "\n",
            "cuda-repo-ubuntu160 100%[===================>]   1.78G  90.9MB/s    in 17s     \n",
            "\n",
            "2018-12-17 07:52:05 (106 MB/s) - ‘cuda-repo-ubuntu1604-8-0-local-ga2_8.0.61-1_amd64-deb.3’ saved [1913589814/1913589814]\n",
            "\n",
            "(Reading database ... 120469 files and directories currently installed.)\n",
            "Preparing to unpack cuda-repo-ubuntu1604-8-0-local-ga2_8.0.61-1_amd64-deb ...\n",
            "Unpacking cuda-repo-ubuntu1604-8-0-local-ga2 (8.0.61-1) over (8.0.61-1) ...\n",
            "Setting up cuda-repo-ubuntu1604-8-0-local-ga2 (8.0.61-1) ...\n",
            "Warning: The postinst maintainerscript of the package cuda-repo-ubuntu1604-8-0-local-ga2\n",
            "Warning: seems to use apt-key (provided by apt) without depending on gnupg or gnupg2.\n",
            "Warning: This will BREAK in the future and should be fixed by the package maintainer(s).\n",
            "Note: Check first if apt-key functionality is needed at all - it probably isn't!\n",
            "Warning: apt-key should not be used in scripts (called from postinst maintainerscript of the package cuda-repo-ubuntu1604-8-0-local-ga2)\n",
            "OK\n",
            "OK\n",
            "Reading package lists... Done\n",
            "Building dependency tree       \n",
            "Reading state information... Done\n",
            "Note, selecting 'cuda-8-0' for regex 'cuda-8.0'\n",
            "Note, selecting 'libcuda-8.0-1' for regex 'cuda-8.0'\n",
            "cuda-8-0 is already the newest version (8.0.61-1).\n",
            "0 upgraded, 0 newly installed, 0 to remove and 13 not upgraded.\n"
          ],
          "name": "stdout"
        }
      ]
    },
    {
      "metadata": {
        "id": "Q_sxEjzgqFFR",
        "colab_type": "code",
        "colab": {}
      },
      "cell_type": "code",
      "source": [
        ""
      ],
      "execution_count": 0,
      "outputs": []
    },
    {
      "metadata": {
        "id": "ICHlibCu6g55",
        "colab_type": "code",
        "outputId": "6fa55cf2-b8cb-4929-d829-743c86804ab3",
        "colab": {
          "base_uri": "https://localhost:8080/",
          "height": 85
        }
      },
      "cell_type": "code",
      "source": [
        "!apt --fix-broken install\n"
      ],
      "execution_count": 0,
      "outputs": [
        {
          "output_type": "stream",
          "text": [
            "Reading package lists... Done\n",
            "Building dependency tree       \n",
            "Reading state information... Done\n",
            "0 upgraded, 0 newly installed, 0 to remove and 13 not upgraded.\n"
          ],
          "name": "stdout"
        }
      ]
    },
    {
      "metadata": {
        "id": "XBT-EHlD6hT4",
        "colab_type": "code",
        "outputId": "b09dc591-9837-47bd-b6c6-692cfdd34cff",
        "colab": {
          "base_uri": "https://localhost:8080/",
          "height": 85
        }
      },
      "cell_type": "code",
      "source": [
        "!/usr/local/cuda/bin/nvcc --version\n"
      ],
      "execution_count": 0,
      "outputs": [
        {
          "output_type": "stream",
          "text": [
            "nvcc: NVIDIA (R) Cuda compiler driver\n",
            "Copyright (c) 2005-2016 NVIDIA Corporation\n",
            "Built on Tue_Jan_10_13:22:03_CST_2017\n",
            "Cuda compilation tools, release 8.0, V8.0.61\n"
          ],
          "name": "stdout"
        }
      ]
    },
    {
      "metadata": {
        "id": "OdtBWFms9H9F",
        "colab_type": "code",
        "outputId": "0b56cad6-7108-4796-9392-c4ad8e956274",
        "colab": {
          "base_uri": "https://localhost:8080/",
          "height": 156
        }
      },
      "cell_type": "code",
      "source": [
        "!pip install git+git://github.com/andreinechaev/nvcc4jupyter.git"
      ],
      "execution_count": 0,
      "outputs": [
        {
          "output_type": "stream",
          "text": [
            "Collecting git+git://github.com/andreinechaev/nvcc4jupyter.git\n",
            "  Cloning git://github.com/andreinechaev/nvcc4jupyter.git to /tmp/pip-req-build-2c1grd9o\n",
            "Requirement already satisfied (use --upgrade to upgrade): NVCCPlugin==0.0.2 from git+git://github.com/andreinechaev/nvcc4jupyter.git in /usr/local/lib/python3.6/dist-packages\n",
            "Building wheels for collected packages: NVCCPlugin\n",
            "  Running setup.py bdist_wheel for NVCCPlugin ... \u001b[?25l-\b \bdone\n",
            "\u001b[?25h  Stored in directory: /tmp/pip-ephem-wheel-cache-_36gsa1s/wheels/10/c2/05/ca241da37bff77d60d31a9174f988109c61ba989e4d4650516\n",
            "Successfully built NVCCPlugin\n"
          ],
          "name": "stdout"
        }
      ]
    },
    {
      "metadata": {
        "id": "jdtZMIE79N2l",
        "colab_type": "code",
        "outputId": "7c230a29-cb0e-4a00-b112-21d25b0293fa",
        "colab": {
          "base_uri": "https://localhost:8080/",
          "height": 51
        }
      },
      "cell_type": "code",
      "source": [
        "%load_ext nvcc_plugin"
      ],
      "execution_count": 0,
      "outputs": [
        {
          "output_type": "stream",
          "text": [
            "directory /content/src already exists\n",
            "Out bin /content/result.out\n"
          ],
          "name": "stdout"
        }
      ]
    },
    {
      "metadata": {
        "id": "-EGvqsBx9R3e",
        "colab_type": "code",
        "outputId": "352fa390-d096-4543-fbc0-e773bba03803",
        "colab": {
          "base_uri": "https://localhost:8080/",
          "height": 34
        }
      },
      "cell_type": "code",
      "source": [
        "%%cu\n",
        "#include <iostream>\n",
        "int main() {\n",
        "    std::cout << \"Hello world\\n\";\n",
        "    return 0;\n",
        "}"
      ],
      "execution_count": 0,
      "outputs": [
        {
          "output_type": "execute_result",
          "data": {
            "text/plain": [
              "'Hello world\\n'"
            ]
          },
          "metadata": {
            "tags": []
          },
          "execution_count": 6
        }
      ]
    },
    {
      "metadata": {
        "id": "rMOCHd7j9ldW",
        "colab_type": "code",
        "outputId": "ba5b6309-5879-4a86-ab3b-847ad778a8de",
        "colab": {
          "base_uri": "https://localhost:8080/",
          "height": 34
        }
      },
      "cell_type": "code",
      "source": [
        "%%cu\n",
        "#include <stdio.h>\n",
        "#include <cuda.h>\n",
        "\n",
        "void initWith(float num, float *a, int N)\n",
        "{\n",
        "  for(int i = 0; i < N; ++i)\n",
        "  {\n",
        "    a[i] = num;\n",
        "  }\n",
        "}\n",
        "\n",
        "void addVectorsInto(float *result, float *a, float *b, int N)\n",
        "{\n",
        "  for(int i = 0; i < N; ++i)\n",
        "  {\n",
        "    result[i] = a[i] + b[i];\n",
        "  }\n",
        "}\n",
        "\n",
        "void checkElementsAre(float target, float *array, int N)\n",
        "{\n",
        "  for(int i = 0; i < N; i++)\n",
        "  {\n",
        "    if(array[i] != target)\n",
        "    {\n",
        "      printf(\"FAIL: array[%d] - %0.0f does not equal %0.0f\\n\", i, array[i], target);\n",
        "      exit(1);\n",
        "    }\n",
        "  }\n",
        "  printf(\"SUCCESS! All values added correctly.\\n\");\n",
        "}\n",
        "\n",
        "int main()\n",
        "{\n",
        "    const int N = 2<<20;\n",
        "    printf(\"N=%d \\r\\n\", N);\n",
        "    \n",
        "  size_t size = N * sizeof(float);\n",
        "\n",
        "  float *a;\n",
        "  float *b;\n",
        "  float *c;\n",
        "\n",
        "  a = (float *)malloc(size);\n",
        "  b = (float *)malloc(size);\n",
        "  c = (float *)malloc(size);\n",
        "\n",
        "  initWith(3, a, N);\n",
        "  initWith(4, b, N);\n",
        "  initWith(0, c, N);\n",
        "\n",
        "  addVectorsInto(c, a, b, N);\n",
        "\n",
        "  checkElementsAre(7, c, N);\n",
        "\n",
        "  free(a);\n",
        "  free(b);\n",
        "  free(c);\n",
        "}\n"
      ],
      "execution_count": 0,
      "outputs": [
        {
          "output_type": "execute_result",
          "data": {
            "text/plain": [
              "'N=2097152 \\r\\nSUCCESS! All values added correctly.\\n'"
            ]
          },
          "metadata": {
            "tags": []
          },
          "execution_count": 7
        }
      ]
    },
    {
      "metadata": {
        "id": "5T1oauxqJqht",
        "colab_type": "code",
        "colab": {}
      },
      "cell_type": "code",
      "source": [
        ""
      ],
      "execution_count": 0,
      "outputs": []
    },
    {
      "metadata": {
        "id": "BhQylpdtHjrU",
        "colab_type": "code",
        "colab": {}
      },
      "cell_type": "code",
      "source": [
        ""
      ],
      "execution_count": 0,
      "outputs": []
    },
    {
      "metadata": {
        "colab_type": "code",
        "outputId": "f44ed068-04c7-4334-9fd5-abcd0886ec89",
        "id": "tPSe9fL6OyVC",
        "colab": {
          "base_uri": "https://localhost:8080/",
          "height": 54
        }
      },
      "cell_type": "code",
      "source": [
        "%%cu\n",
        "#include <stdio.h>\n",
        "#include <cuda.h>\n",
        "#include <stdlib.h>\n",
        "//https://medium.com/@iphoenix179/running-cuda-c-c-in-jupyter-or-how-to-run-nvcc-in-google-colab-663d33f53772\n",
        "\n",
        "void initData(float num, float *a, int N)\n",
        "{\n",
        "  for(int i = 0; i < N; ++i)\n",
        "  {\n",
        "    a[i] = num;\n",
        "  }\n",
        "}\n",
        "void printData(float *a,int N)\n",
        "{\n",
        "    for (int i=0;i<N;++i)\n",
        "    {\n",
        "      \n",
        "        printf(\"a of %d=%d\",i, a[i]);\n",
        "   //putchar();\n",
        "        }\n",
        "}\n",
        "\n",
        "\n",
        "int main()\n",
        "{\n",
        "  const int N = 221;\n",
        "  size_t size = N * sizeof(float);\n",
        "  float *a;\n",
        "  //float *b;\n",
        "  //float *c;\n",
        "\n",
        "  a = (float *)malloc(size);\n",
        "  //b = (float *)malloc(size);\n",
        "  //c = (float *)malloc(size);\n",
        "\n",
        "  initData(3, a, N);\n",
        "  //initData(4, b, N);\n",
        "  //initData(0, c, N);\n",
        "  //printf(\"a = %d\\r\", a);\n",
        "    printData(a,N);\n",
        "}\n",
        "    \n"
      ],
      "execution_count": 0,
      "outputs": [
        {
          "output_type": "execute_result",
          "data": {
            "text/plain": [
              "'a of 0=0a of 1=4a of 2=8a of 3=12a of 4=16a of 5=20a of 6=24a of 7=28a of 8=32a of 9=36a of 10=40a of 11=44a of 12=48a of 13=52a of 14=56a of 15=60a of 16=64a of 17=68a of 18=72a of 19=76a of 20=80a of 21=84a of 22=88a of 23=92a of 24=96a of 25=100a of 26=104a of 27=108a of 28=112a of 29=116a of 30=120a of 31=124a of 32=128a of 33=132a of 34=136a of 35=140a of 36=144a of 37=148a of 38=152a of 39=156a of 40=160a of 41=164a of 42=168a of 43=172a of 44=176a of 45=180a of 46=184a of 47=188a of 48=192a of 49=196a of 50=200a of 51=204a of 52=208a of 53=212a of 54=216a of 55=220a of 56=224a of 57=228a of 58=232a of 59=236a of 60=240a of 61=244a of 62=248a of 63=252a of 64=256a of 65=260a of 66=264a of 67=268a of 68=272a of 69=276a of 70=280a of 71=284a of 72=288a of 73=292a of 74=296a of 75=300a of 76=304a of 77=308a of 78=312a of 79=316a of 80=320a of 81=324a of 82=328a of 83=332a of 84=336a of 85=340a of 86=344a of 87=348a of 88=352a of 89=356a of 90=360a of 91=364a of 92=368a of 93=372a of 94=376a of 95=380a of 96=384a of 97=388a of 98=392a of 99=396a of 100=400a of 101=404a of 102=408a of 103=412a of 104=416a of 105=420a of 106=424a of 107=428a of 108=432a of 109=436a of 110=440a of 111=444a of 112=448a of 113=452a of 114=456a of 115=460a of 116=464a of 117=468a of 118=472a of 119=476a of 120=480a of 121=484a of 122=488a of 123=492a of 124=496a of 125=500a of 126=504a of 127=508a of 128=512a of 129=516a of 130=520a of 131=524a of 132=528a of 133=532a of 134=536a of 135=540a of 136=544a of 137=548a of 138=552a of 139=556a of 140=560a of 141=564a of 142=568a of 143=572a of 144=576a of 145=580a of 146=584a of 147=588a of 148=592a of 149=596a of 150=600a of 151=604a of 152=608a of 153=612a of 154=616a of 155=620a of 156=624a of 157=628a of 158=632a of 159=636a of 160=640a of 161=644a of 162=648a of 163=652a of 164=656a of 165=660a of 166=664a of 167=668a of 168=672a of 169=676a of 170=680a of 171=684a of 172=688a of 173=692a of 174=696a of 175=700a of 176=704a of 177=708a of 178=712a of 179=716a of 180=720a of 181=724a of 182=728a of 183=732a of 184=736a of 185=740a of 186=744a of 187=748a of 188=752a of 189=756a of 190=760a of 191=764a of 192=768a of 193=772a of 194=776a of 195=780a of 196=784a of 197=788a of 198=792a of 199=796a of 200=800a of 201=804a of 202=808a of 203=812a of 204=816a of 205=820a of 206=824a of 207=828a of 208=832a of 209=836a of 210=840a of 211=844a of 212=848a of 213=852a of 214=856a of 215=860a of 216=864a of 217=868a of 218=872a of 219=876a of 220=880'"
            ]
          },
          "metadata": {
            "tags": []
          },
          "execution_count": 10
        }
      ]
    },
    {
      "metadata": {
        "id": "f9m4TzFHfTHJ",
        "colab_type": "code",
        "outputId": "cf410cdf-0174-4943-f990-72357382b623",
        "colab": {
          "base_uri": "https://localhost:8080/",
          "height": 54
        }
      },
      "cell_type": "code",
      "source": [
        "%%cu\n",
        "#include <stdio.h>\n",
        "#include <cuda.h>\n",
        "#include <stdlib.h>\n",
        "\n",
        "__global__ void squire(float *d_in, float *d_out)\n",
        "{\n",
        "    int idx = threadIdx.x;\n",
        "    float f = d_in[idx];\n",
        "    d_out[idx] = f * f;\n",
        "}\n",
        "\n",
        "int main(int argc, char **argv) {\n",
        "    const int ARRAY_SIZE = 64;\n",
        "    const int ARRAY_BYTES = ARRAY_SIZE * sizeof(float);\n",
        "    \n",
        "    //generate the input array\n",
        "    float h_in[ARRAY_SIZE];\n",
        "    for (int i = 0; i<ARRAY_SIZE; i++) {\n",
        "        h_in[i]=float(i);\n",
        "    }\n",
        "    float h_out[ARRAY_SIZE];\n",
        "    //declare gpu memmory pointers\n",
        "    float *d_in;\n",
        "    float *d_out;\n",
        "    \n",
        "    //allocate device memory\n",
        "    cudaMalloc( ( void **)  &d_in, ARRAY_BYTES );\n",
        "    cudaMalloc( ( void **) &d_out, ARRAY_BYTES );\n",
        "    \n",
        "    //copy host data to device\n",
        "    cudaMemcpy(d_in, h_in, ARRAY_SIZE * sizeof(float), cudaMemcpyHostToDevice);\n",
        "    // launch the kernel\n",
        "    squire<<<1, ARRAY_SIZE>>>(d_in, d_out);\n",
        "    \n",
        "    //copy back device data to host\n",
        "    cudaMemcpy(h_out, d_out, ARRAY_SIZE * sizeof(float), cudaMemcpyDeviceToHost);\n",
        "    \n",
        "    //printing output array\n",
        "    for (int i =0; i < ARRAY_SIZE; i++) {\n",
        "        printf(\"%f\", h_out[i]);\n",
        "        printf(\"<hr \\>\");\n",
        "        //printf(((i % 4) != 3) ? \"\\t\" : \"\\n\");\n",
        "    }\n",
        "    cudaFree(d_in);\n",
        "    cudaFree(d_out);\n",
        "    return 0;\n",
        "}"
      ],
      "execution_count": 0,
      "outputs": [
        {
          "output_type": "execute_result",
          "data": {
            "text/plain": [
              "'0.000000<hr >1.000000<hr >4.000000<hr >9.000000<hr >16.000000<hr >25.000000<hr >36.000000<hr >49.000000<hr >64.000000<hr >81.000000<hr >100.000000<hr >121.000000<hr >144.000000<hr >169.000000<hr >196.000000<hr >225.000000<hr >256.000000<hr >289.000000<hr >324.000000<hr >361.000000<hr >400.000000<hr >441.000000<hr >484.000000<hr >529.000000<hr >576.000000<hr >625.000000<hr >676.000000<hr >729.000000<hr >784.000000<hr >841.000000<hr >900.000000<hr >961.000000<hr >1024.000000<hr >1089.000000<hr >1156.000000<hr >1225.000000<hr >1296.000000<hr >1369.000000<hr >1444.000000<hr >1521.000000<hr >1600.000000<hr >1681.000000<hr >1764.000000<hr >1849.000000<hr >1936.000000<hr >2025.000000<hr >2116.000000<hr >2209.000000<hr >2304.000000<hr >2401.000000<hr >2500.000000<hr >2601.000000<hr >2704.000000<hr >2809.000000<hr >2916.000000<hr >3025.000000<hr >3136.000000<hr >3249.000000<hr >3364.000000<hr >3481.000000<hr >3600.000000<hr >3721.000000<hr >3844.000000<hr >3969.000000<hr >'"
            ]
          },
          "metadata": {
            "tags": []
          },
          "execution_count": 30
        }
      ]
    },
    {
      "metadata": {
        "id": "Vpz_cz-L_k_J",
        "colab_type": "code",
        "outputId": "08d949d1-189e-437e-9591-0cc0aaa103d9",
        "colab": {
          "base_uri": "https://localhost:8080/",
          "height": 54
        }
      },
      "cell_type": "code",
      "source": [
        "%%cu\n",
        "#include <stdio.h>\n",
        "#include <cuda.h>\n",
        "#include <stdlib.h>\n",
        "\n",
        "__global__ void cube(float * d_out, float * d_in){\n",
        "\t// Todo: Fill in this function\n",
        "\t int idx = threadIdx.x;\n",
        "     float f = d_in[idx];\n",
        "     d_out[idx] = f * f * f;\n",
        "}\n",
        "\n",
        "int main(int argc, char ** argv) {\n",
        "\tconst int ARRAY_SIZE = 64;\n",
        "\tconst int ARRAY_BYTES = ARRAY_SIZE * sizeof(float);\n",
        "\n",
        "\t// generate the input array on the host\n",
        "\tfloat h_in[ARRAY_SIZE];\n",
        "\tfor (int i = 0; i < ARRAY_SIZE; i++) {\n",
        "\t\th_in[i] = float(i);\n",
        "\t}\n",
        "\tfloat h_out[ARRAY_SIZE];\n",
        "\n",
        "\t// declare GPU memory pointers\n",
        "\tfloat * d_in;\n",
        "\tfloat * d_out;\n",
        "\n",
        "\t// allocate GPU memory\n",
        "\tcudaMalloc((void**) &d_in, ARRAY_BYTES);\n",
        "\tcudaMalloc((void**) &d_out, ARRAY_BYTES);\n",
        "\n",
        "\t// transfer the array to the GPU\n",
        "\tcudaMemcpy(d_in, h_in, ARRAY_BYTES, cudaMemcpyHostToDevice);\n",
        "\n",
        "\t// launch the kernel\n",
        "\tcube<<<1, ARRAY_SIZE>>>(d_out, d_in);\n",
        "\n",
        "\t// copy back the result array to the CPU\n",
        "\tcudaMemcpy(h_out, d_out, ARRAY_BYTES, cudaMemcpyDeviceToHost);\n",
        "\n",
        "\t// print out the resulting array\n",
        "\tfor (int i =0; i < ARRAY_SIZE; i++) {\n",
        "\t\tprintf(\"%f\", h_out[i]);\n",
        "        \n",
        "\t\tprintf(((i % 4) != 3) ? \"\\t\" : \"\\n\");\n",
        "\t}\n",
        "\n",
        "\tcudaFree(d_in);\n",
        "\tcudaFree(d_out);\n",
        "\n",
        "\treturn 0;\n",
        "}"
      ],
      "execution_count": 38,
      "outputs": [
        {
          "output_type": "execute_result",
          "data": {
            "text/plain": [
              "'0.000000\\t1.000000\\t8.000000\\t27.000000\\n64.000000\\t125.000000\\t216.000000\\t343.000000\\n512.000000\\t729.000000\\t1000.000000\\t1331.000000\\n1728.000000\\t2197.000000\\t2744.000000\\t3375.000000\\n4096.000000\\t4913.000000\\t5832.000000\\t6859.000000\\n8000.000000\\t9261.000000\\t10648.000000\\t12167.000000\\n13824.000000\\t15625.000000\\t17576.000000\\t19683.000000\\n21952.000000\\t24389.000000\\t27000.000000\\t29791.000000\\n32768.000000\\t35937.000000\\t39304.000000\\t42875.000000\\n46656.000000\\t50653.000000\\t54872.000000\\t59319.000000\\n64000.000000\\t68921.000000\\t74088.000000\\t79507.000000\\n85184.000000\\t91125.000000\\t97336.000000\\t103823.000000\\n110592.000000\\t117649.000000\\t125000.000000\\t132651.000000\\n140608.000000\\t148877.000000\\t157464.000000\\t166375.000000\\n175616.000000\\t185193.000000\\t195112.000000\\t205379.000000\\n216000.000000\\t226981.000000\\t238328.000000\\t250047.000000\\n'"
            ]
          },
          "metadata": {
            "tags": []
          },
          "execution_count": 38
        }
      ]
    },
    {
      "metadata": {
        "id": "VA6hAfXwVWjD",
        "colab_type": "code",
        "colab": {}
      },
      "cell_type": "code",
      "source": [
        ""
      ],
      "execution_count": 0,
      "outputs": []
    },
    {
      "metadata": {
        "id": "bNfoQ1ojRzqx",
        "colab_type": "code",
        "colab": {}
      },
      "cell_type": "code",
      "source": [
        ""
      ],
      "execution_count": 0,
      "outputs": []
    }
  ]
}